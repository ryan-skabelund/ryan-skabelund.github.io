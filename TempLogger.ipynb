{
 "cells": [
  {
   "cell_type": "code",
   "execution_count": 18,
   "id": "706c25d2-a00c-453f-8f75-8dddfd5ae248",
   "metadata": {},
   "outputs": [
    {
     "data": {
      "text/html": [
       "<div>\n",
       "<style scoped>\n",
       "    .dataframe tbody tr th:only-of-type {\n",
       "        vertical-align: middle;\n",
       "    }\n",
       "\n",
       "    .dataframe tbody tr th {\n",
       "        vertical-align: top;\n",
       "    }\n",
       "\n",
       "    .dataframe thead th {\n",
       "        text-align: right;\n",
       "    }\n",
       "</style>\n",
       "<table border=\"1\" class=\"dataframe\">\n",
       "  <thead>\n",
       "    <tr style=\"text-align: right;\">\n",
       "      <th></th>\n",
       "      <th>id</th>\n",
       "      <th>name</th>\n",
       "      <th>timestamp</th>\n",
       "      <th>temp</th>\n",
       "      <th>humidity</th>\n",
       "      <th>temp_f</th>\n",
       "    </tr>\n",
       "  </thead>\n",
       "  <tbody>\n",
       "    <tr>\n",
       "      <th>0</th>\n",
       "      <td>8</td>\n",
       "      <td>ryan's room</td>\n",
       "      <td>2022-01-26T19:00:00</td>\n",
       "      <td>28</td>\n",
       "      <td>23</td>\n",
       "      <td>82.4</td>\n",
       "    </tr>\n",
       "    <tr>\n",
       "      <th>1</th>\n",
       "      <td>9</td>\n",
       "      <td>ryan's room</td>\n",
       "      <td>2022-01-26T20:00:00</td>\n",
       "      <td>27</td>\n",
       "      <td>23</td>\n",
       "      <td>80.6</td>\n",
       "    </tr>\n",
       "    <tr>\n",
       "      <th>2</th>\n",
       "      <td>10</td>\n",
       "      <td>ryan's room</td>\n",
       "      <td>2022-01-26T21:00:00</td>\n",
       "      <td>25</td>\n",
       "      <td>28</td>\n",
       "      <td>77.0</td>\n",
       "    </tr>\n",
       "    <tr>\n",
       "      <th>3</th>\n",
       "      <td>11</td>\n",
       "      <td>ryan's room</td>\n",
       "      <td>2022-01-26T22:00:00</td>\n",
       "      <td>25</td>\n",
       "      <td>30</td>\n",
       "      <td>77.0</td>\n",
       "    </tr>\n",
       "    <tr>\n",
       "      <th>4</th>\n",
       "      <td>12</td>\n",
       "      <td>ryan's room</td>\n",
       "      <td>2022-01-26T23:00:00</td>\n",
       "      <td>24</td>\n",
       "      <td>30</td>\n",
       "      <td>75.2</td>\n",
       "    </tr>\n",
       "    <tr>\n",
       "      <th>5</th>\n",
       "      <td>13</td>\n",
       "      <td>ryan's room</td>\n",
       "      <td>2022-01-27T00:00:00</td>\n",
       "      <td>23</td>\n",
       "      <td>31</td>\n",
       "      <td>73.4</td>\n",
       "    </tr>\n",
       "    <tr>\n",
       "      <th>6</th>\n",
       "      <td>14</td>\n",
       "      <td>ryan's room</td>\n",
       "      <td>2022-01-27T01:00:00</td>\n",
       "      <td>23</td>\n",
       "      <td>31</td>\n",
       "      <td>73.4</td>\n",
       "    </tr>\n",
       "    <tr>\n",
       "      <th>7</th>\n",
       "      <td>15</td>\n",
       "      <td>ryan's room</td>\n",
       "      <td>2022-01-27T02:00:00</td>\n",
       "      <td>23</td>\n",
       "      <td>32</td>\n",
       "      <td>73.4</td>\n",
       "    </tr>\n",
       "    <tr>\n",
       "      <th>8</th>\n",
       "      <td>16</td>\n",
       "      <td>ryan's room</td>\n",
       "      <td>2022-01-27T03:00:00</td>\n",
       "      <td>23</td>\n",
       "      <td>32</td>\n",
       "      <td>73.4</td>\n",
       "    </tr>\n",
       "  </tbody>\n",
       "</table>\n",
       "</div>"
      ],
      "text/plain": [
       "   id         name            timestamp  temp  humidity  temp_f\n",
       "0   8  ryan's room  2022-01-26T19:00:00    28        23    82.4\n",
       "1   9  ryan's room  2022-01-26T20:00:00    27        23    80.6\n",
       "2  10  ryan's room  2022-01-26T21:00:00    25        28    77.0\n",
       "3  11  ryan's room  2022-01-26T22:00:00    25        30    77.0\n",
       "4  12  ryan's room  2022-01-26T23:00:00    24        30    75.2\n",
       "5  13  ryan's room  2022-01-27T00:00:00    23        31    73.4\n",
       "6  14  ryan's room  2022-01-27T01:00:00    23        31    73.4\n",
       "7  15  ryan's room  2022-01-27T02:00:00    23        32    73.4\n",
       "8  16  ryan's room  2022-01-27T03:00:00    23        32    73.4"
      ]
     },
     "execution_count": 18,
     "metadata": {},
     "output_type": "execute_result"
    }
   ],
   "source": [
    "import requests\n",
    "import json\n",
    "response = requests.get(\"https://datapacketapi20220126011916.azurewebsites.net/api/data\")\n",
    "data = json.loads(response.content.decode(\"utf-8\"))\n",
    "\n",
    "import pandas as pd\n",
    "df = pd.DataFrame(data)\n",
    "df[\"temp_f\"] = df[\"temp\"] * 9/5 + 32\n",
    "df"
   ]
  },
  {
   "cell_type": "code",
   "execution_count": 8,
   "id": "3e4c283e-0b58-45c4-82d2-f9d6ff6dafd6",
   "metadata": {},
   "outputs": [
    {
     "data": {
      "text/plain": [
       "<AxesSubplot:xlabel='timestamp'>"
      ]
     },
     "execution_count": 8,
     "metadata": {},
     "output_type": "execute_result"
    },
    {
     "data": {
      "image/png": "[encoded data removed]",
      "text/plain": [
       "<Figure size 432x288 with 1 Axes>"
      ]
     },
     "metadata": {
      "needs_background": "light"
     },
     "output_type": "display_data"
    }
   ],
   "source": [
    "df.plot(x = \"timestamp\", y = \"temp_f\")"
   ]
  }
 ],
 "metadata": {
  "kernelspec": {
   "display_name": "Python 3 (ipykernel)",
   "language": "python",
   "name": "python3"
  },
  "language_info": {
   "codemirror_mode": {
    "name": "ipython",
    "version": 3
   },
   "file_extension": ".py",
   "mimetype": "text/x-python",
   "name": "python",
   "nbconvert_exporter": "python",
   "pygments_lexer": "ipython3",
   "version": "3.9.7"
  }
 },
 "nbformat": 4,
 "nbformat_minor": 5
}
